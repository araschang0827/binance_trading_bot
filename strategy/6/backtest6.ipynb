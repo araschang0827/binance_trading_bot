{
 "cells": [
  {
   "cell_type": "markdown",
   "metadata": {
    "pycharm": {
     "name": "#%% md\n"
    }
   },
   "source": [
    "### Initialize and collect ohlcv data"
   ]
  },
  {
   "cell_type": "code",
   "execution_count": 2,
   "metadata": {
    "pycharm": {
     "name": "#%%\n"
    }
   },
   "outputs": [],
   "source": [
    "import sys\n",
    "sys.path.append('/Users/araschang/Desktop/coding/binance_trading_bot/')\n",
    "import datetime\n",
    "import time\n",
    "import pandas as pd\n",
    "import ccxt\n",
    "from Module.indicators import *\n",
    "import Module.constants as const\n",
    "##### Bitget 與 Bybit 套利 #####\n",
    "# input parameters\n",
    "\n",
    "okx = ccxt.okx({\n",
    "    'apiKey': const.okx_api_key,\n",
    "    'secret': const.okx_api_secret,\n",
    "    'password': const.okx_pass_phrase,\n",
    "})\n",
    "bitget = ccxt.bitget({\n",
    "    'apiKey': const.bitget_api_key,\n",
    "    'secret': const.bitget_api_secret,\n",
    "    'password': const.bitget_pass_phrase,\n",
    "})\n",
    "binance = ccxt.binanceusdm({\n",
    "    'apiKey': const.binance_future_api_key,\n",
    "    'secret': const.binance_future_api_secret,\n",
    "    'enableRateLimit': True,\n",
    "    'option': {\n",
    "        'defaultMarket': 'future',\n",
    "    },\n",
    "})"
   ]
  },
  {
   "cell_type": "markdown",
   "metadata": {},
   "source": [
    "#### Load brokers' markets and check the differences"
   ]
  },
  {
   "cell_type": "code",
   "execution_count": 6,
   "metadata": {},
   "outputs": [],
   "source": [
    "# okx\n",
    "okx_list_tem = list(okx.load_markets().keys())\n",
    "okx_list = []\n",
    "for i in range(len(okx_list_tem)):\n",
    "    if okx_list_tem[i][-5:] == ':USDT':\n",
    "        okx_list.append(okx_list_tem[i][:-5])\n",
    "bybit_list = set(okx_list)\n",
    "\n",
    "#bitget\n",
    "bitget_list_tem = list(bitget.load_markets().keys())\n",
    "bitget_list = []\n",
    "for i in range(len(bitget_list_tem)):\n",
    "    if bitget_list_tem[i][-5:] == ':USDT':\n",
    "        bitget_list.append(bitget_list_tem[i][:-5])\n",
    "bitget_list = set(bitget_list)\n",
    "\n",
    "#binance (a reference for fair values)\n",
    "binance_list = set(binance.load_markets().keys())\n",
    "\n",
    "#target markets\n",
    "target_market = list(bitget_list & bybit_list)"
   ]
  },
  {
   "cell_type": "markdown",
   "metadata": {},
   "source": [
    "##### 筆記：以幣安價格當作基準，如果一方高於幣安一方低於幣安則開125倍單，並考量到手續費，須以幣安價格為目標價，計算預計盈虧，扣除手續費如有利潤才可開單\n",
    "okx 0.05%<br>\n",
    "bitget 0.06%"
   ]
  },
  {
   "cell_type": "code",
   "execution_count": 44,
   "metadata": {},
   "outputs": [],
   "source": [
    "df = pd.read_csv('/Users/araschang/Desktop/backtestdata_btc_1h.csv')\n",
    "df.columns = ['date', 'open', 'high', 'low', 'close', 'volume']\n",
    "# converting str to int\n",
    "df['open'] = pd.to_numeric(df['open'])\n",
    "df['high'] = pd.to_numeric(df['high'])\n",
    "df['low'] = pd.to_numeric(df['low'])\n",
    "df['close'] = pd.to_numeric(df['close'])\n",
    "df['volume'] = pd.to_numeric(df['volume'])"
   ]
  },
  {
   "cell_type": "markdown",
   "metadata": {
    "pycharm": {
     "name": "#%% md\n"
    }
   },
   "source": [
    "### Indicators"
   ]
  },
  {
   "cell_type": "code",
   "execution_count": 55,
   "metadata": {
    "pycharm": {
     "name": "#%%\n"
    }
   },
   "outputs": [
    {
     "data": {
      "text/html": [
       "<div>\n",
       "<style scoped>\n",
       "    .dataframe tbody tr th:only-of-type {\n",
       "        vertical-align: middle;\n",
       "    }\n",
       "\n",
       "    .dataframe tbody tr th {\n",
       "        vertical-align: top;\n",
       "    }\n",
       "\n",
       "    .dataframe thead th {\n",
       "        text-align: right;\n",
       "    }\n",
       "</style>\n",
       "<table border=\"1\" class=\"dataframe\">\n",
       "  <thead>\n",
       "    <tr style=\"text-align: right;\">\n",
       "      <th></th>\n",
       "      <th>date</th>\n",
       "      <th>open</th>\n",
       "      <th>high</th>\n",
       "      <th>low</th>\n",
       "      <th>close</th>\n",
       "      <th>volume</th>\n",
       "      <th>ATR</th>\n",
       "      <th>5ema</th>\n",
       "      <th>20ema</th>\n",
       "      <th>super</th>\n",
       "    </tr>\n",
       "  </thead>\n",
       "  <tbody>\n",
       "    <tr>\n",
       "      <th>0</th>\n",
       "      <td>2022-09-08 22:10:00</td>\n",
       "      <td>19149.6</td>\n",
       "      <td>19175.7</td>\n",
       "      <td>19117.9</td>\n",
       "      <td>19156.5</td>\n",
       "      <td>2488.218</td>\n",
       "      <td>NaN</td>\n",
       "      <td>NaN</td>\n",
       "      <td>NaN</td>\n",
       "      <td>1</td>\n",
       "    </tr>\n",
       "    <tr>\n",
       "      <th>1</th>\n",
       "      <td>2022-09-08 22:15:00</td>\n",
       "      <td>19156.6</td>\n",
       "      <td>19241.4</td>\n",
       "      <td>19130.1</td>\n",
       "      <td>19240.2</td>\n",
       "      <td>4160.624</td>\n",
       "      <td>NaN</td>\n",
       "      <td>NaN</td>\n",
       "      <td>NaN</td>\n",
       "      <td>1</td>\n",
       "    </tr>\n",
       "    <tr>\n",
       "      <th>2</th>\n",
       "      <td>2022-09-08 22:20:00</td>\n",
       "      <td>19240.2</td>\n",
       "      <td>19300.2</td>\n",
       "      <td>19203.5</td>\n",
       "      <td>19213.5</td>\n",
       "      <td>6708.135</td>\n",
       "      <td>NaN</td>\n",
       "      <td>NaN</td>\n",
       "      <td>NaN</td>\n",
       "      <td>1</td>\n",
       "    </tr>\n",
       "    <tr>\n",
       "      <th>3</th>\n",
       "      <td>2022-09-08 22:25:00</td>\n",
       "      <td>19213.4</td>\n",
       "      <td>19261.0</td>\n",
       "      <td>19200.0</td>\n",
       "      <td>19230.4</td>\n",
       "      <td>2600.957</td>\n",
       "      <td>NaN</td>\n",
       "      <td>NaN</td>\n",
       "      <td>NaN</td>\n",
       "      <td>1</td>\n",
       "    </tr>\n",
       "    <tr>\n",
       "      <th>4</th>\n",
       "      <td>2022-09-08 22:30:00</td>\n",
       "      <td>19230.3</td>\n",
       "      <td>19261.0</td>\n",
       "      <td>19209.5</td>\n",
       "      <td>19247.4</td>\n",
       "      <td>2179.891</td>\n",
       "      <td>NaN</td>\n",
       "      <td>NaN</td>\n",
       "      <td>NaN</td>\n",
       "      <td>1</td>\n",
       "    </tr>\n",
       "    <tr>\n",
       "      <th>...</th>\n",
       "      <td>...</td>\n",
       "      <td>...</td>\n",
       "      <td>...</td>\n",
       "      <td>...</td>\n",
       "      <td>...</td>\n",
       "      <td>...</td>\n",
       "      <td>...</td>\n",
       "      <td>...</td>\n",
       "      <td>...</td>\n",
       "      <td>...</td>\n",
       "    </tr>\n",
       "    <tr>\n",
       "      <th>995</th>\n",
       "      <td>2022-09-12 09:05:00</td>\n",
       "      <td>21617.0</td>\n",
       "      <td>21646.1</td>\n",
       "      <td>21595.4</td>\n",
       "      <td>21597.8</td>\n",
       "      <td>1882.891</td>\n",
       "      <td>58.665374</td>\n",
       "      <td>21688.053629</td>\n",
       "      <td>21656.438813</td>\n",
       "      <td>-1</td>\n",
       "    </tr>\n",
       "    <tr>\n",
       "      <th>996</th>\n",
       "      <td>2022-09-12 09:10:00</td>\n",
       "      <td>21597.8</td>\n",
       "      <td>21660.1</td>\n",
       "      <td>21597.8</td>\n",
       "      <td>21655.1</td>\n",
       "      <td>1273.044</td>\n",
       "      <td>59.184606</td>\n",
       "      <td>21685.612619</td>\n",
       "      <td>21656.406937</td>\n",
       "      <td>-1</td>\n",
       "    </tr>\n",
       "    <tr>\n",
       "      <th>997</th>\n",
       "      <td>2022-09-12 09:15:00</td>\n",
       "      <td>21655.0</td>\n",
       "      <td>21686.0</td>\n",
       "      <td>21650.0</td>\n",
       "      <td>21682.0</td>\n",
       "      <td>1551.445</td>\n",
       "      <td>55.872520</td>\n",
       "      <td>21685.345018</td>\n",
       "      <td>21657.016295</td>\n",
       "      <td>-1</td>\n",
       "    </tr>\n",
       "    <tr>\n",
       "      <th>998</th>\n",
       "      <td>2022-09-12 09:20:00</td>\n",
       "      <td>21682.0</td>\n",
       "      <td>21716.0</td>\n",
       "      <td>21658.0</td>\n",
       "      <td>21714.8</td>\n",
       "      <td>1700.127</td>\n",
       "      <td>56.176445</td>\n",
       "      <td>21687.526869</td>\n",
       "      <td>21658.392098</td>\n",
       "      <td>-1</td>\n",
       "    </tr>\n",
       "    <tr>\n",
       "      <th>999</th>\n",
       "      <td>2022-09-12 09:25:00</td>\n",
       "      <td>21714.7</td>\n",
       "      <td>21741.3</td>\n",
       "      <td>21714.5</td>\n",
       "      <td>21737.0</td>\n",
       "      <td>973.036</td>\n",
       "      <td>51.979810</td>\n",
       "      <td>21691.191545</td>\n",
       "      <td>21660.263714</td>\n",
       "      <td>-1</td>\n",
       "    </tr>\n",
       "  </tbody>\n",
       "</table>\n",
       "<p>1000 rows × 10 columns</p>\n",
       "</div>"
      ],
      "text/plain": [
       "                    date     open     high      low    close    volume  \\\n",
       "0    2022-09-08 22:10:00  19149.6  19175.7  19117.9  19156.5  2488.218   \n",
       "1    2022-09-08 22:15:00  19156.6  19241.4  19130.1  19240.2  4160.624   \n",
       "2    2022-09-08 22:20:00  19240.2  19300.2  19203.5  19213.5  6708.135   \n",
       "3    2022-09-08 22:25:00  19213.4  19261.0  19200.0  19230.4  2600.957   \n",
       "4    2022-09-08 22:30:00  19230.3  19261.0  19209.5  19247.4  2179.891   \n",
       "..                   ...      ...      ...      ...      ...       ...   \n",
       "995  2022-09-12 09:05:00  21617.0  21646.1  21595.4  21597.8  1882.891   \n",
       "996  2022-09-12 09:10:00  21597.8  21660.1  21597.8  21655.1  1273.044   \n",
       "997  2022-09-12 09:15:00  21655.0  21686.0  21650.0  21682.0  1551.445   \n",
       "998  2022-09-12 09:20:00  21682.0  21716.0  21658.0  21714.8  1700.127   \n",
       "999  2022-09-12 09:25:00  21714.7  21741.3  21714.5  21737.0   973.036   \n",
       "\n",
       "           ATR          5ema         20ema  super  \n",
       "0          NaN           NaN           NaN      1  \n",
       "1          NaN           NaN           NaN      1  \n",
       "2          NaN           NaN           NaN      1  \n",
       "3          NaN           NaN           NaN      1  \n",
       "4          NaN           NaN           NaN      1  \n",
       "..         ...           ...           ...    ...  \n",
       "995  58.665374  21688.053629  21656.438813     -1  \n",
       "996  59.184606  21685.612619  21656.406937     -1  \n",
       "997  55.872520  21685.345018  21657.016295     -1  \n",
       "998  56.176445  21687.526869  21658.392098     -1  \n",
       "999  51.979810  21691.191545  21660.263714     -1  \n",
       "\n",
       "[1000 rows x 10 columns]"
      ]
     },
     "execution_count": 55,
     "metadata": {},
     "output_type": "execute_result"
    }
   ],
   "source": [
    "import numpy as np\n",
    "import pandas_ta as ta\n",
    "\n",
    "def concat(df1, list1):\n",
    "    list1 = pd.DataFrame(list1).T\n",
    "    list1.columns = ['Start', 'End', 'Ratio']\n",
    "    return pd.concat([df1, list1], axis=0, ignore_index=True)\n",
    "\n",
    "a = 26\n",
    "b = 83\n",
    "c = 13\n",
    "df['ATR'] = ATR(df, period=c)\n",
    "df['5ema'] = EMA(df, a)\n",
    "df['20ema'] = EMA(df, b)\n",
    "high = pd.Series(df['high'])\n",
    "low = pd.Series(df['low'])\n",
    "close = pd.Series(df['close'])\n",
    "df['super'] = pd.DataFrame(ta.supertrend(high, low, close))['SUPERTd_7_3.0']\n",
    "\n",
    "df"
   ]
  },
  {
   "cell_type": "markdown",
   "metadata": {
    "pycharm": {
     "name": "#%% md\n"
    }
   },
   "source": [
    "### Backtesting"
   ]
  },
  {
   "cell_type": "code",
   "execution_count": 56,
   "metadata": {
    "pycharm": {
     "name": "#%%\n"
    }
   },
   "outputs": [
    {
     "name": "stdout",
     "output_type": "stream",
     "text": [
      "Profit ratio(%): -0.14307423430206484\n",
      "Win rate(%): 28.57142857142857\n",
      "CAGR: -0.14520637427071204\n",
      "Sharpe ratio: -2.0961998895941223\n",
      "Max drawdown: 0.01792136039252626\n"
     ]
    }
   ],
   "source": [
    "ret = []\n",
    "signal = ''\n",
    "transaction = pd.DataFrame([1,1,1]).T\n",
    "transaction.columns = ['Start', 'End', 'Ratio']\n",
    "trans = []\n",
    "start_price = 0\n",
    "\n",
    "for i in range(len(df)):\n",
    "\n",
    "    if signal == '':\n",
    "        ret.append(0)\n",
    "        if df['close'][i]>df['5ema'][i]>df['20ema'][i] and df['super'][i-1] ==-1 and df['super'][i] == 1:\n",
    "            signal = 'BUY'\n",
    "            stop_loss = df['close'][i] - df['ATR'][i]\n",
    "            # Don't touch\n",
    "            trans.append(df['date'][i])\n",
    "            start_price = df['close'][i]\n",
    "\n",
    "        elif df['close'][i]<df['5ema'][i]<df['20ema'][i] and df['super'][i-1] == 1 and df['super'][i] == -1:\n",
    "            signal = 'SELL'\n",
    "            stop_loss = df['close'][i] + df['ATR'][i]\n",
    "            # Don't touch\n",
    "            trans.append(df['date'][i])\n",
    "            start_price = df['close'][i]\n",
    "    \n",
    "    elif signal == 'BUY':\n",
    "        if df['close'][i]<df['5ema'][i]:  # stop profit\n",
    "            signal = ''\n",
    "\n",
    "            # Don't touch\n",
    "            ret.append((df['close'][i]/df['close'][i-1])-1)\n",
    "            trans.append(df['date'][i])\n",
    "            trans.append((df['close'][i] - start_price)/start_price)\n",
    "            transaction = concat(transaction, trans)\n",
    "            trans = []\n",
    "            start_price = 0\n",
    "        \n",
    "        else:\n",
    "            # Don't touch\n",
    "            ret.append((df['close'][i]/df['close'][i-1])-1)\n",
    "    \n",
    "    elif signal == 'SELL':\n",
    "        if df['close'][i]>df['5ema'][i]:  # normal stop profit\n",
    "            signal = ''\n",
    "\n",
    "            # Don't touch\n",
    "            ret.append((df['close'][i-1]/df['close'][i])-1)\n",
    "            trans.append(df['date'][i])\n",
    "            trans.append((start_price - df['close'][i])/start_price)\n",
    "            transaction = concat(transaction, trans)\n",
    "            trans = []\n",
    "            start_price = 0\n",
    "\n",
    "        else:\n",
    "            # Don't touch\n",
    "            ret.append((df['close'][i-1]/df['close'][i])-1)\n",
    "\n",
    "# Don't touch\n",
    "transaction['Ratio'] = 100 * transaction['Ratio']\n",
    "transaction = transaction.drop([0])\n",
    "sum = transaction['Ratio'].sum()\n",
    "\n",
    "# Total profit ratio and KPIs\n",
    "ret = pd.DataFrame(ret, columns=['ret'])\n",
    "winrate = transaction['Ratio'][transaction['Ratio']>0].count() / len(transaction)\n",
    "print('Profit ratio(%):',sum)\n",
    "print('Win rate(%):', winrate*100)\n",
    "print('CAGR:',CAGR(ret))\n",
    "print('Sharpe ratio:', sharpe(ret, 0.0343))\n",
    "print('Max drawdown:', max_dd(ret))"
   ]
  },
  {
   "cell_type": "markdown",
   "metadata": {},
   "source": [
    "### Plotting"
   ]
  },
  {
   "cell_type": "code",
   "execution_count": 40,
   "metadata": {
    "pycharm": {
     "name": "#%%\n"
    }
   },
   "outputs": [
    {
     "data": {
      "text/plain": [
       "<AxesSubplot:>"
      ]
     },
     "execution_count": 40,
     "metadata": {},
     "output_type": "execute_result"
    },
    {
     "data": {
      "image/png": "[encoded data removed]",
      "text/plain": [
       "<Figure size 432x288 with 1 Axes>"
      ]
     },
     "metadata": {
      "needs_background": "light"
     },
     "output_type": "display_data"
    }
   ],
   "source": [
    "(1+ret[\"ret\"]).cumprod().plot()"
   ]
  },
  {
   "cell_type": "code",
   "execution_count": 97,
   "metadata": {},
   "outputs": [
    {
     "data": {
      "text/html": [
       "<div>\n",
       "<style scoped>\n",
       "    .dataframe tbody tr th:only-of-type {\n",
       "        vertical-align: middle;\n",
       "    }\n",
       "\n",
       "    .dataframe tbody tr th {\n",
       "        vertical-align: top;\n",
       "    }\n",
       "\n",
       "    .dataframe thead th {\n",
       "        text-align: right;\n",
       "    }\n",
       "</style>\n",
       "<table border=\"1\" class=\"dataframe\">\n",
       "  <thead>\n",
       "    <tr style=\"text-align: right;\">\n",
       "      <th></th>\n",
       "      <th>ret</th>\n",
       "    </tr>\n",
       "  </thead>\n",
       "  <tbody>\n",
       "    <tr>\n",
       "      <th>0</th>\n",
       "      <td>0.000000</td>\n",
       "    </tr>\n",
       "    <tr>\n",
       "      <th>1</th>\n",
       "      <td>0.000000</td>\n",
       "    </tr>\n",
       "    <tr>\n",
       "      <th>2</th>\n",
       "      <td>0.000000</td>\n",
       "    </tr>\n",
       "    <tr>\n",
       "      <th>3</th>\n",
       "      <td>0.000000</td>\n",
       "    </tr>\n",
       "    <tr>\n",
       "      <th>4</th>\n",
       "      <td>0.000000</td>\n",
       "    </tr>\n",
       "    <tr>\n",
       "      <th>...</th>\n",
       "      <td>...</td>\n",
       "    </tr>\n",
       "    <tr>\n",
       "      <th>995</th>\n",
       "      <td>0.003360</td>\n",
       "    </tr>\n",
       "    <tr>\n",
       "      <th>996</th>\n",
       "      <td>-0.000300</td>\n",
       "    </tr>\n",
       "    <tr>\n",
       "      <th>997</th>\n",
       "      <td>0.001668</td>\n",
       "    </tr>\n",
       "    <tr>\n",
       "      <th>998</th>\n",
       "      <td>0.002706</td>\n",
       "    </tr>\n",
       "    <tr>\n",
       "      <th>999</th>\n",
       "      <td>0.000396</td>\n",
       "    </tr>\n",
       "  </tbody>\n",
       "</table>\n",
       "<p>1000 rows × 1 columns</p>\n",
       "</div>"
      ],
      "text/plain": [
       "          ret\n",
       "0    0.000000\n",
       "1    0.000000\n",
       "2    0.000000\n",
       "3    0.000000\n",
       "4    0.000000\n",
       "..        ...\n",
       "995  0.003360\n",
       "996 -0.000300\n",
       "997  0.001668\n",
       "998  0.002706\n",
       "999  0.000396\n",
       "\n",
       "[1000 rows x 1 columns]"
      ]
     },
     "execution_count": 97,
     "metadata": {},
     "output_type": "execute_result"
    }
   ],
   "source": [
    "ret"
   ]
  }
 ],
 "metadata": {
  "kernelspec": {
   "display_name": "Python 3.8.13 ('quant')",
   "language": "python",
   "name": "python3"
  },
  "language_info": {
   "codemirror_mode": {
    "name": "ipython",
    "version": 3
   },
   "file_extension": ".py",
   "mimetype": "text/x-python",
   "name": "python",
   "nbconvert_exporter": "python",
   "pygments_lexer": "ipython3",
   "version": "3.8.13"
  },
  "orig_nbformat": 4,
  "vscode": {
   "interpreter": {
    "hash": "f52173e4bbea47d84d130855821094b39dd48ebcf3b557e80019f41a6280c411"
   }
  }
 },
 "nbformat": 4,
 "nbformat_minor": 2
}
